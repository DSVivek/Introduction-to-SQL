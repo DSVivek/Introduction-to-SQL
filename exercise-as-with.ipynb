{
 "cells": [
  {
   "cell_type": "markdown",
   "id": "f576cfcb",
   "metadata": {
    "papermill": {
     "duration": 0.019997,
     "end_time": "2021-08-23T14:49:12.296469",
     "exception": false,
     "start_time": "2021-08-23T14:49:12.276472",
     "status": "completed"
    },
    "tags": []
   },
   "source": [
    "**This notebook is an exercise in the [SQL](https://www.kaggle.com/learn/intro-to-sql) course.  You can reference the tutorial at [this link](https://www.kaggle.com/dansbecker/as-with).**\n",
    "\n",
    "---\n"
   ]
  },
  {
   "cell_type": "markdown",
   "id": "28c515ac",
   "metadata": {
    "papermill": {
     "duration": 0.018826,
     "end_time": "2021-08-23T14:49:12.335604",
     "exception": false,
     "start_time": "2021-08-23T14:49:12.316778",
     "status": "completed"
    },
    "tags": []
   },
   "source": [
    "# Introduction\n",
    "\n",
    "You are getting to the point where you can own an analysis from beginning to end. So you'll do more data exploration in this exercise than you've done before.  Before you get started, run the following set-up code as usual. "
   ]
  },
  {
   "cell_type": "code",
   "execution_count": 1,
   "id": "ee150569",
   "metadata": {
    "execution": {
     "iopub.execute_input": "2021-08-23T14:49:12.379618Z",
     "iopub.status.busy": "2021-08-23T14:49:12.377875Z",
     "iopub.status.idle": "2021-08-23T14:49:15.908975Z",
     "shell.execute_reply": "2021-08-23T14:49:15.909487Z",
     "shell.execute_reply.started": "2021-08-23T14:36:55.718310Z"
    },
    "papermill": {
     "duration": 3.555177,
     "end_time": "2021-08-23T14:49:15.909858",
     "exception": false,
     "start_time": "2021-08-23T14:49:12.354681",
     "status": "completed"
    },
    "tags": []
   },
   "outputs": [
    {
     "name": "stdout",
     "output_type": "stream",
     "text": [
      "Using Kaggle's public dataset BigQuery integration.\n"
     ]
    },
    {
     "name": "stderr",
     "output_type": "stream",
     "text": [
      "/opt/conda/lib/python3.7/site-packages/google/cloud/bigquery/client.py:440: UserWarning: Cannot create BigQuery Storage client, the dependency google-cloud-bigquery-storage is not installed.\n",
      "  \"Cannot create BigQuery Storage client, the dependency \"\n"
     ]
    },
    {
     "name": "stdout",
     "output_type": "stream",
     "text": [
      "Setup Complete\n"
     ]
    }
   ],
   "source": [
    "# Set up feedback system\n",
    "from learntools.core import binder\n",
    "binder.bind(globals())\n",
    "from learntools.sql.ex5 import *\n",
    "print(\"Setup Complete\")"
   ]
  },
  {
   "cell_type": "markdown",
   "id": "f8314d9f",
   "metadata": {
    "papermill": {
     "duration": 0.019719,
     "end_time": "2021-08-23T14:49:15.950179",
     "exception": false,
     "start_time": "2021-08-23T14:49:15.930460",
     "status": "completed"
    },
    "tags": []
   },
   "source": [
    "You'll work with a dataset about taxi trips in the city of Chicago. Run the cell below to fetch the `chicago_taxi_trips` dataset."
   ]
  },
  {
   "cell_type": "code",
   "execution_count": 2,
   "id": "241a2c21",
   "metadata": {
    "execution": {
     "iopub.execute_input": "2021-08-23T14:49:15.999518Z",
     "iopub.status.busy": "2021-08-23T14:49:15.998625Z",
     "iopub.status.idle": "2021-08-23T14:49:16.279134Z",
     "shell.execute_reply": "2021-08-23T14:49:16.279809Z",
     "shell.execute_reply.started": "2021-08-23T14:37:24.219605Z"
    },
    "papermill": {
     "duration": 0.309861,
     "end_time": "2021-08-23T14:49:16.280033",
     "exception": false,
     "start_time": "2021-08-23T14:49:15.970172",
     "status": "completed"
    },
    "tags": []
   },
   "outputs": [
    {
     "name": "stdout",
     "output_type": "stream",
     "text": [
      "Using Kaggle's public dataset BigQuery integration.\n"
     ]
    }
   ],
   "source": [
    "from google.cloud import bigquery\n",
    "\n",
    "# Create a \"Client\" object\n",
    "client = bigquery.Client()\n",
    "\n",
    "# Construct a reference to the \"chicago_taxi_trips\" dataset\n",
    "dataset_ref = client.dataset(\"chicago_taxi_trips\", project=\"bigquery-public-data\")\n",
    "\n",
    "# API request - fetch the dataset\n",
    "dataset = client.get_dataset(dataset_ref)"
   ]
  },
  {
   "cell_type": "markdown",
   "id": "b19d0b7b",
   "metadata": {
    "papermill": {
     "duration": 0.020827,
     "end_time": "2021-08-23T14:49:16.322093",
     "exception": false,
     "start_time": "2021-08-23T14:49:16.301266",
     "status": "completed"
    },
    "tags": []
   },
   "source": [
    "# Exercises\n",
    "\n",
    "You are curious how much slower traffic moves when traffic volume is high. This involves a few steps.\n",
    "\n",
    "### 1) Find the data\n",
    "Before you can access the data, you need to find the table name with the data.\n",
    "\n",
    "*Hint*: Tab completion is helpful whenever you can't remember a command. Type `client.` and then hit the tab key. Don't forget the period before hitting tab."
   ]
  },
  {
   "cell_type": "code",
   "execution_count": 3,
   "id": "1012ac91",
   "metadata": {
    "execution": {
     "iopub.execute_input": "2021-08-23T14:49:16.366365Z",
     "iopub.status.busy": "2021-08-23T14:49:16.365696Z",
     "iopub.status.idle": "2021-08-23T14:49:16.576016Z",
     "shell.execute_reply": "2021-08-23T14:49:16.575374Z",
     "shell.execute_reply.started": "2021-08-23T14:37:32.530248Z"
    },
    "papermill": {
     "duration": 0.23359,
     "end_time": "2021-08-23T14:49:16.576192",
     "exception": false,
     "start_time": "2021-08-23T14:49:16.342602",
     "status": "completed"
    },
    "tags": []
   },
   "outputs": [
    {
     "name": "stdout",
     "output_type": "stream",
     "text": [
      "taxi_trips\n"
     ]
    }
   ],
   "source": [
    "# Your code here to find the table name\n",
    "\n",
    "tables = list(client.list_tables(dataset))\n",
    "\n",
    "for table in tables:\n",
    "    print(table.table_id)"
   ]
  },
  {
   "cell_type": "code",
   "execution_count": 4,
   "id": "4a8f806b",
   "metadata": {
    "execution": {
     "iopub.execute_input": "2021-08-23T14:49:16.626664Z",
     "iopub.status.busy": "2021-08-23T14:49:16.625982Z",
     "iopub.status.idle": "2021-08-23T14:49:16.631093Z",
     "shell.execute_reply": "2021-08-23T14:49:16.631572Z",
     "shell.execute_reply.started": "2021-08-23T14:37:37.429015Z"
    },
    "papermill": {
     "duration": 0.034606,
     "end_time": "2021-08-23T14:49:16.631778",
     "exception": false,
     "start_time": "2021-08-23T14:49:16.597172",
     "status": "completed"
    },
    "tags": []
   },
   "outputs": [
    {
     "data": {
      "application/javascript": [
       "parent.postMessage({\"jupyterEvent\": \"custom.exercise_interaction\", \"data\": {\"outcomeType\": 1, \"valueTowardsCompletion\": 0.16666666666666666, \"interactionType\": 1, \"questionType\": 1, \"questionId\": \"1_GetTableName\", \"learnToolsVersion\": \"0.3.4\", \"failureMessage\": \"\", \"exceptionClass\": \"\", \"trace\": \"\"}}, \"*\")"
      ],
      "text/plain": [
       "<IPython.core.display.Javascript object>"
      ]
     },
     "metadata": {},
     "output_type": "display_data"
    },
    {
     "data": {
      "text/markdown": [
       "<span style=\"color:#33cc33\">Correct</span>"
      ],
      "text/plain": [
       "Correct"
      ]
     },
     "metadata": {},
     "output_type": "display_data"
    }
   ],
   "source": [
    "# Write the table name as a string below\n",
    "table_name = \"taxi_trips\" \n",
    "\n",
    "# Check your answer\n",
    "q_1.check()"
   ]
  },
  {
   "cell_type": "markdown",
   "id": "e19407f6",
   "metadata": {
    "papermill": {
     "duration": 0.021206,
     "end_time": "2021-08-23T14:49:16.675199",
     "exception": false,
     "start_time": "2021-08-23T14:49:16.653993",
     "status": "completed"
    },
    "tags": []
   },
   "source": [
    "For the solution, uncomment the line below."
   ]
  },
  {
   "cell_type": "code",
   "execution_count": 5,
   "id": "40e38705",
   "metadata": {
    "execution": {
     "iopub.execute_input": "2021-08-23T14:49:16.722745Z",
     "iopub.status.busy": "2021-08-23T14:49:16.722035Z",
     "iopub.status.idle": "2021-08-23T14:49:16.725663Z",
     "shell.execute_reply": "2021-08-23T14:49:16.726233Z",
     "shell.execute_reply.started": "2021-08-23T13:19:25.064210Z"
    },
    "papermill": {
     "duration": 0.029318,
     "end_time": "2021-08-23T14:49:16.726414",
     "exception": false,
     "start_time": "2021-08-23T14:49:16.697096",
     "status": "completed"
    },
    "tags": []
   },
   "outputs": [],
   "source": [
    "#q_1.solution()"
   ]
  },
  {
   "cell_type": "markdown",
   "id": "8d582f2d",
   "metadata": {
    "papermill": {
     "duration": 0.02279,
     "end_time": "2021-08-23T14:49:16.771687",
     "exception": false,
     "start_time": "2021-08-23T14:49:16.748897",
     "status": "completed"
    },
    "tags": []
   },
   "source": [
    "### 2) Peek at the data\n",
    "\n",
    "Use the next code cell to peek at the top few rows of the data. Inspect the data and see if any issues with data quality are immediately obvious. "
   ]
  },
  {
   "cell_type": "code",
   "execution_count": 6,
   "id": "4fcf319a",
   "metadata": {
    "execution": {
     "iopub.execute_input": "2021-08-23T14:49:16.819346Z",
     "iopub.status.busy": "2021-08-23T14:49:16.818422Z",
     "iopub.status.idle": "2021-08-23T14:49:17.680462Z",
     "shell.execute_reply": "2021-08-23T14:49:17.679687Z",
     "shell.execute_reply.started": "2021-08-23T14:37:44.809736Z"
    },
    "papermill": {
     "duration": 0.886972,
     "end_time": "2021-08-23T14:49:17.680631",
     "exception": false,
     "start_time": "2021-08-23T14:49:16.793659",
     "status": "completed"
    },
    "tags": []
   },
   "outputs": [
    {
     "name": "stderr",
     "output_type": "stream",
     "text": [
      "/opt/conda/lib/python3.7/site-packages/ipykernel_launcher.py:7: UserWarning: Cannot use bqstorage_client if max_results is set, reverting to fetching data with the tabledata.list endpoint.\n",
      "  import sys\n"
     ]
    },
    {
     "data": {
      "text/html": [
       "<div>\n",
       "<style scoped>\n",
       "    .dataframe tbody tr th:only-of-type {\n",
       "        vertical-align: middle;\n",
       "    }\n",
       "\n",
       "    .dataframe tbody tr th {\n",
       "        vertical-align: top;\n",
       "    }\n",
       "\n",
       "    .dataframe thead th {\n",
       "        text-align: right;\n",
       "    }\n",
       "</style>\n",
       "<table border=\"1\" class=\"dataframe\">\n",
       "  <thead>\n",
       "    <tr style=\"text-align: right;\">\n",
       "      <th></th>\n",
       "      <th>unique_key</th>\n",
       "      <th>taxi_id</th>\n",
       "      <th>trip_start_timestamp</th>\n",
       "      <th>trip_end_timestamp</th>\n",
       "      <th>trip_seconds</th>\n",
       "      <th>trip_miles</th>\n",
       "      <th>pickup_census_tract</th>\n",
       "      <th>dropoff_census_tract</th>\n",
       "      <th>pickup_community_area</th>\n",
       "      <th>dropoff_community_area</th>\n",
       "      <th>...</th>\n",
       "      <th>extras</th>\n",
       "      <th>trip_total</th>\n",
       "      <th>payment_type</th>\n",
       "      <th>company</th>\n",
       "      <th>pickup_latitude</th>\n",
       "      <th>pickup_longitude</th>\n",
       "      <th>pickup_location</th>\n",
       "      <th>dropoff_latitude</th>\n",
       "      <th>dropoff_longitude</th>\n",
       "      <th>dropoff_location</th>\n",
       "    </tr>\n",
       "  </thead>\n",
       "  <tbody>\n",
       "    <tr>\n",
       "      <th>0</th>\n",
       "      <td>f7ec1bc4ddd0e39531fd5307fca2a0aa46230451</td>\n",
       "      <td>3683df8abf7c59bf0e9d46a0de6f2c4ed65b0971fdaa22...</td>\n",
       "      <td>2019-05-18 22:30:00+00:00</td>\n",
       "      <td>2019-05-18 22:30:00+00:00</td>\n",
       "      <td>303</td>\n",
       "      <td>0.60</td>\n",
       "      <td>NaN</td>\n",
       "      <td>NaN</td>\n",
       "      <td>NaN</td>\n",
       "      <td>NaN</td>\n",
       "      <td>...</td>\n",
       "      <td>1.0</td>\n",
       "      <td>6.00</td>\n",
       "      <td>Cash</td>\n",
       "      <td>Flash Cab</td>\n",
       "      <td>NaN</td>\n",
       "      <td>NaN</td>\n",
       "      <td>None</td>\n",
       "      <td>NaN</td>\n",
       "      <td>NaN</td>\n",
       "      <td>None</td>\n",
       "    </tr>\n",
       "    <tr>\n",
       "      <th>1</th>\n",
       "      <td>96392e56b1f1e528c6538a7f540980ef425757f8</td>\n",
       "      <td>bc709a696db40a46144faa530198a65442402f42513ee4...</td>\n",
       "      <td>2013-05-24 14:15:00+00:00</td>\n",
       "      <td>2013-05-24 14:15:00+00:00</td>\n",
       "      <td>480</td>\n",
       "      <td>1.00</td>\n",
       "      <td>NaN</td>\n",
       "      <td>NaN</td>\n",
       "      <td>NaN</td>\n",
       "      <td>NaN</td>\n",
       "      <td>...</td>\n",
       "      <td>0.0</td>\n",
       "      <td>6.25</td>\n",
       "      <td>Cash</td>\n",
       "      <td>Northwest Management LLC</td>\n",
       "      <td>NaN</td>\n",
       "      <td>NaN</td>\n",
       "      <td>None</td>\n",
       "      <td>NaN</td>\n",
       "      <td>NaN</td>\n",
       "      <td>None</td>\n",
       "    </tr>\n",
       "    <tr>\n",
       "      <th>2</th>\n",
       "      <td>f7e93165a7c38e5f32659b4e29fc9f991201a706</td>\n",
       "      <td>fd2da3c465274925140779eb37aca0868e129d3d16c76f...</td>\n",
       "      <td>2019-05-05 22:00:00+00:00</td>\n",
       "      <td>2019-05-05 22:15:00+00:00</td>\n",
       "      <td>127</td>\n",
       "      <td>0.09</td>\n",
       "      <td>NaN</td>\n",
       "      <td>NaN</td>\n",
       "      <td>NaN</td>\n",
       "      <td>NaN</td>\n",
       "      <td>...</td>\n",
       "      <td>2.0</td>\n",
       "      <td>5.75</td>\n",
       "      <td>Cash</td>\n",
       "      <td>Flash Cab</td>\n",
       "      <td>NaN</td>\n",
       "      <td>NaN</td>\n",
       "      <td>None</td>\n",
       "      <td>NaN</td>\n",
       "      <td>NaN</td>\n",
       "      <td>None</td>\n",
       "    </tr>\n",
       "    <tr>\n",
       "      <th>3</th>\n",
       "      <td>f7e0af3e0673cfd0d8fbe0264d99092ea2d0cfec</td>\n",
       "      <td>692320c13d5f7819864fb57797a53cd467452176b95411...</td>\n",
       "      <td>2019-05-09 23:15:00+00:00</td>\n",
       "      <td>2019-05-09 23:30:00+00:00</td>\n",
       "      <td>840</td>\n",
       "      <td>8.52</td>\n",
       "      <td>NaN</td>\n",
       "      <td>NaN</td>\n",
       "      <td>NaN</td>\n",
       "      <td>NaN</td>\n",
       "      <td>...</td>\n",
       "      <td>0.0</td>\n",
       "      <td>29.06</td>\n",
       "      <td>Credit Card</td>\n",
       "      <td>Nova Taxi Affiliation Llc</td>\n",
       "      <td>NaN</td>\n",
       "      <td>NaN</td>\n",
       "      <td>None</td>\n",
       "      <td>NaN</td>\n",
       "      <td>NaN</td>\n",
       "      <td>None</td>\n",
       "    </tr>\n",
       "    <tr>\n",
       "      <th>4</th>\n",
       "      <td>f7e9255b6f8b0af6595ed81b0b755f0754d80877</td>\n",
       "      <td>88d3be8c1334607f62a8c058f680dd7fbb57826ec7408d...</td>\n",
       "      <td>2019-05-15 10:45:00+00:00</td>\n",
       "      <td>2019-05-15 11:30:00+00:00</td>\n",
       "      <td>2040</td>\n",
       "      <td>27.50</td>\n",
       "      <td>NaN</td>\n",
       "      <td>NaN</td>\n",
       "      <td>NaN</td>\n",
       "      <td>NaN</td>\n",
       "      <td>...</td>\n",
       "      <td>38.0</td>\n",
       "      <td>135.10</td>\n",
       "      <td>Credit Card</td>\n",
       "      <td>Top Cab Affiliation</td>\n",
       "      <td>NaN</td>\n",
       "      <td>NaN</td>\n",
       "      <td>None</td>\n",
       "      <td>NaN</td>\n",
       "      <td>NaN</td>\n",
       "      <td>None</td>\n",
       "    </tr>\n",
       "  </tbody>\n",
       "</table>\n",
       "<p>5 rows × 23 columns</p>\n",
       "</div>"
      ],
      "text/plain": [
       "                                 unique_key  \\\n",
       "0  f7ec1bc4ddd0e39531fd5307fca2a0aa46230451   \n",
       "1  96392e56b1f1e528c6538a7f540980ef425757f8   \n",
       "2  f7e93165a7c38e5f32659b4e29fc9f991201a706   \n",
       "3  f7e0af3e0673cfd0d8fbe0264d99092ea2d0cfec   \n",
       "4  f7e9255b6f8b0af6595ed81b0b755f0754d80877   \n",
       "\n",
       "                                             taxi_id  \\\n",
       "0  3683df8abf7c59bf0e9d46a0de6f2c4ed65b0971fdaa22...   \n",
       "1  bc709a696db40a46144faa530198a65442402f42513ee4...   \n",
       "2  fd2da3c465274925140779eb37aca0868e129d3d16c76f...   \n",
       "3  692320c13d5f7819864fb57797a53cd467452176b95411...   \n",
       "4  88d3be8c1334607f62a8c058f680dd7fbb57826ec7408d...   \n",
       "\n",
       "       trip_start_timestamp        trip_end_timestamp  trip_seconds  \\\n",
       "0 2019-05-18 22:30:00+00:00 2019-05-18 22:30:00+00:00           303   \n",
       "1 2013-05-24 14:15:00+00:00 2013-05-24 14:15:00+00:00           480   \n",
       "2 2019-05-05 22:00:00+00:00 2019-05-05 22:15:00+00:00           127   \n",
       "3 2019-05-09 23:15:00+00:00 2019-05-09 23:30:00+00:00           840   \n",
       "4 2019-05-15 10:45:00+00:00 2019-05-15 11:30:00+00:00          2040   \n",
       "\n",
       "   trip_miles  pickup_census_tract  dropoff_census_tract  \\\n",
       "0        0.60                  NaN                   NaN   \n",
       "1        1.00                  NaN                   NaN   \n",
       "2        0.09                  NaN                   NaN   \n",
       "3        8.52                  NaN                   NaN   \n",
       "4       27.50                  NaN                   NaN   \n",
       "\n",
       "   pickup_community_area  dropoff_community_area  ...  extras  trip_total  \\\n",
       "0                    NaN                     NaN  ...     1.0        6.00   \n",
       "1                    NaN                     NaN  ...     0.0        6.25   \n",
       "2                    NaN                     NaN  ...     2.0        5.75   \n",
       "3                    NaN                     NaN  ...     0.0       29.06   \n",
       "4                    NaN                     NaN  ...    38.0      135.10   \n",
       "\n",
       "   payment_type                    company  pickup_latitude pickup_longitude  \\\n",
       "0          Cash                  Flash Cab              NaN              NaN   \n",
       "1          Cash   Northwest Management LLC              NaN              NaN   \n",
       "2          Cash                  Flash Cab              NaN              NaN   \n",
       "3   Credit Card  Nova Taxi Affiliation Llc              NaN              NaN   \n",
       "4   Credit Card        Top Cab Affiliation              NaN              NaN   \n",
       "\n",
       "  pickup_location  dropoff_latitude  dropoff_longitude dropoff_location  \n",
       "0            None               NaN                NaN             None  \n",
       "1            None               NaN                NaN             None  \n",
       "2            None               NaN                NaN             None  \n",
       "3            None               NaN                NaN             None  \n",
       "4            None               NaN                NaN             None  \n",
       "\n",
       "[5 rows x 23 columns]"
      ]
     },
     "execution_count": 6,
     "metadata": {},
     "output_type": "execute_result"
    }
   ],
   "source": [
    "# Your code here\n",
    "table_ref = dataset_ref.table(\"taxi_trips\")\n",
    "\n",
    "table = client.get_table(table_ref)\n",
    "\n",
    "#preview the first five lines\n",
    "client.list_rows(table, max_results=5).to_dataframe()"
   ]
  },
  {
   "cell_type": "markdown",
   "id": "b04ccfd2",
   "metadata": {
    "papermill": {
     "duration": 0.025107,
     "end_time": "2021-08-23T14:49:17.729412",
     "exception": false,
     "start_time": "2021-08-23T14:49:17.704305",
     "status": "completed"
    },
    "tags": []
   },
   "source": [
    "After deciding whether you see any important issues, run the code cell below."
   ]
  },
  {
   "cell_type": "code",
   "execution_count": 7,
   "id": "a8602ff7",
   "metadata": {
    "execution": {
     "iopub.execute_input": "2021-08-23T14:49:17.782239Z",
     "iopub.status.busy": "2021-08-23T14:49:17.781521Z",
     "iopub.status.idle": "2021-08-23T14:49:17.785962Z",
     "shell.execute_reply": "2021-08-23T14:49:17.786435Z",
     "shell.execute_reply.started": "2021-08-23T14:37:54.542297Z"
    },
    "papermill": {
     "duration": 0.033199,
     "end_time": "2021-08-23T14:49:17.786598",
     "exception": false,
     "start_time": "2021-08-23T14:49:17.753399",
     "status": "completed"
    },
    "tags": []
   },
   "outputs": [
    {
     "data": {
      "application/javascript": [
       "parent.postMessage({\"jupyterEvent\": \"custom.exercise_interaction\", \"data\": {\"interactionType\": 3, \"questionType\": 4, \"questionId\": \"2_WhatsWrongWithData\", \"learnToolsVersion\": \"0.3.4\", \"valueTowardsCompletion\": 0.0, \"failureMessage\": \"\", \"exceptionClass\": \"\", \"trace\": \"\", \"outcomeType\": 4}}, \"*\")"
      ],
      "text/plain": [
       "<IPython.core.display.Javascript object>"
      ]
     },
     "metadata": {},
     "output_type": "display_data"
    },
    {
     "data": {
      "text/markdown": [
       "<span style=\"color:#33cc99\">Solution:</span> \n",
       "You can see the data by calling: \n",
       "```python\n",
       "# Construct a reference to the \"taxi_trips\" table\n",
       "table_ref = dataset_ref.table(\"taxi_trips\")\n",
       "\n",
       "# API request - fetch the table\n",
       "table = client.get_table(table_ref)\n",
       "\n",
       "# Preview the first five lines of the \"taxi_trips\" table\n",
       "client.list_rows(table, max_results=5).to_dataframe()\n",
       "```\n",
       "\n",
       "Some trips in the top few rows have `trip_seconds` or `trip_miles` values of 0. \n",
       "Other location fields have values of `None`. That is a problem if we want to use those fields.\n"
      ],
      "text/plain": [
       "Solution: \n",
       "You can see the data by calling: \n",
       "```python\n",
       "# Construct a reference to the \"taxi_trips\" table\n",
       "table_ref = dataset_ref.table(\"taxi_trips\")\n",
       "\n",
       "# API request - fetch the table\n",
       "table = client.get_table(table_ref)\n",
       "\n",
       "# Preview the first five lines of the \"taxi_trips\" table\n",
       "client.list_rows(table, max_results=5).to_dataframe()\n",
       "```\n",
       "\n",
       "Some trips in the top few rows have `trip_seconds` or `trip_miles` values of 0. \n",
       "Other location fields have values of `None`. That is a problem if we want to use those fields."
      ]
     },
     "metadata": {},
     "output_type": "display_data"
    }
   ],
   "source": [
    "# Check your answer (Run this code cell to receive credit!)\n",
    "q_2.solution()"
   ]
  },
  {
   "cell_type": "markdown",
   "id": "668861c2",
   "metadata": {
    "papermill": {
     "duration": 0.022927,
     "end_time": "2021-08-23T14:49:17.833715",
     "exception": false,
     "start_time": "2021-08-23T14:49:17.810788",
     "status": "completed"
    },
    "tags": []
   },
   "source": [
    "### 3) Determine when this data is from\n",
    "\n",
    "If the data is sufficiently old, we might be careful before assuming the data is still relevant to traffic patterns today. Write a query that counts the number of trips in each year.  \n",
    "\n",
    "Your results should have two columns:\n",
    "- `year` - the year of the trips\n",
    "- `num_trips` - the number of trips in that year\n",
    "\n",
    "Hints:\n",
    "- When using **GROUP BY** and **ORDER BY**, you should refer to the columns by the alias `year` that you set at the top of the **SELECT** query.\n",
    "- The SQL code to **SELECT** the year from `trip_start_timestamp` is <code>SELECT EXTRACT(YEAR FROM trip_start_timestamp)</code>\n",
    "- The **FROM** field can be a little tricky until you are used to it.  The format is:\n",
    "    1. A backick (the symbol \\`).\n",
    "    2. The project name. In this case it is `bigquery-public-data`.\n",
    "    3. A period.\n",
    "    4. The dataset name. In this case, it is `chicago_taxi_trips`.\n",
    "    5. A period.\n",
    "    6. The table name. You used this as your answer in **1) Find the data**.\n",
    "    7. A backtick (the symbol \\`)."
   ]
  },
  {
   "cell_type": "code",
   "execution_count": 8,
   "id": "fd205930",
   "metadata": {
    "execution": {
     "iopub.execute_input": "2021-08-23T14:49:17.884705Z",
     "iopub.status.busy": "2021-08-23T14:49:17.884049Z",
     "iopub.status.idle": "2021-08-23T14:49:19.089216Z",
     "shell.execute_reply": "2021-08-23T14:49:19.088633Z",
     "shell.execute_reply.started": "2021-08-23T14:38:05.221408Z"
    },
    "papermill": {
     "duration": 1.231971,
     "end_time": "2021-08-23T14:49:19.089380",
     "exception": false,
     "start_time": "2021-08-23T14:49:17.857409",
     "status": "completed"
    },
    "tags": []
   },
   "outputs": [
    {
     "name": "stderr",
     "output_type": "stream",
     "text": [
      "/opt/conda/lib/python3.7/site-packages/google/cloud/bigquery/client.py:440: UserWarning: Cannot create BigQuery Storage client, the dependency google-cloud-bigquery-storage is not installed.\n",
      "  \"Cannot create BigQuery Storage client, the dependency \"\n"
     ]
    },
    {
     "name": "stdout",
     "output_type": "stream",
     "text": [
      "   year  num_trips\n",
      "0  2013   27217716\n",
      "1  2014   37395436\n",
      "2  2015   32385875\n",
      "3  2016   31759339\n",
      "4  2017   24988003\n",
      "5  2018   20732088\n",
      "6  2019   16477365\n",
      "7  2020    3889032\n",
      "8  2021    1735699\n"
     ]
    },
    {
     "data": {
      "application/javascript": [
       "parent.postMessage({\"jupyterEvent\": \"custom.exercise_interaction\", \"data\": {\"outcomeType\": 1, \"valueTowardsCompletion\": 0.16666666666666666, \"interactionType\": 1, \"questionType\": 2, \"questionId\": \"3_YearDistrib\", \"learnToolsVersion\": \"0.3.4\", \"failureMessage\": \"\", \"exceptionClass\": \"\", \"trace\": \"\"}}, \"*\")"
      ],
      "text/plain": [
       "<IPython.core.display.Javascript object>"
      ]
     },
     "metadata": {},
     "output_type": "display_data"
    },
    {
     "data": {
      "text/markdown": [
       "<span style=\"color:#33cc33\">Correct</span>"
      ],
      "text/plain": [
       "Correct"
      ]
     },
     "metadata": {},
     "output_type": "display_data"
    }
   ],
   "source": [
    "# Your code goes here\n",
    "rides_per_year_query = \"\"\"\n",
    "                       SELECT EXTRACT(YEAR FROM trip_start_timestamp) AS year, COUNT(1) AS num_trips\n",
    "                       FROM `bigquery-public-data.chicago_taxi_trips.taxi_trips` \n",
    "                       GROUP BY year\n",
    "                       ORDER BY year\n",
    "                       \"\"\"\n",
    "\n",
    "# Set up the query (cancel the query if it would use too much of \n",
    "# your quota)\n",
    "safe_config = bigquery.QueryJobConfig(maximum_bytes_billed=10**10)\n",
    "rides_per_year_query_job = client.query(rides_per_year_query, job_config=safe_config) \n",
    "\n",
    "# API request - run the query, and return a pandas DataFrame\n",
    "rides_per_year_result = rides_per_year_query_job.to_dataframe()\n",
    "\n",
    "# View results\n",
    "print(rides_per_year_result)\n",
    "\n",
    "# Check your answer\n",
    "q_3.check()"
   ]
  },
  {
   "cell_type": "markdown",
   "id": "e2d17005",
   "metadata": {
    "papermill": {
     "duration": 0.025212,
     "end_time": "2021-08-23T14:49:19.140283",
     "exception": false,
     "start_time": "2021-08-23T14:49:19.115071",
     "status": "completed"
    },
    "tags": []
   },
   "source": [
    "For a hint or the solution, uncomment the appropriate line below."
   ]
  },
  {
   "cell_type": "code",
   "execution_count": 9,
   "id": "3bc3e375",
   "metadata": {
    "execution": {
     "iopub.execute_input": "2021-08-23T14:49:19.196644Z",
     "iopub.status.busy": "2021-08-23T14:49:19.195981Z",
     "iopub.status.idle": "2021-08-23T14:49:19.199653Z",
     "shell.execute_reply": "2021-08-23T14:49:19.199012Z",
     "shell.execute_reply.started": "2021-08-23T13:46:53.236388Z"
    },
    "papermill": {
     "duration": 0.033762,
     "end_time": "2021-08-23T14:49:19.199855",
     "exception": false,
     "start_time": "2021-08-23T14:49:19.166093",
     "status": "completed"
    },
    "tags": []
   },
   "outputs": [],
   "source": [
    "#q_3.hint()\n",
    "#q_3.solution()"
   ]
  },
  {
   "cell_type": "markdown",
   "id": "851647cf",
   "metadata": {
    "papermill": {
     "duration": 0.025127,
     "end_time": "2021-08-23T14:49:19.250591",
     "exception": false,
     "start_time": "2021-08-23T14:49:19.225464",
     "status": "completed"
    },
    "tags": []
   },
   "source": [
    "### 4) Dive slightly deeper\n",
    "\n",
    "You'd like to take a closer look at rides from 2017.  Copy the query you used above in `rides_per_year_query` into the cell below for `rides_per_month_query`.  Then modify it in two ways:\n",
    "1. Use a **WHERE** clause to limit the query to data from 2017.\n",
    "2. Modify the query to extract the month rather than the year."
   ]
  },
  {
   "cell_type": "code",
   "execution_count": 10,
   "id": "253b30ed",
   "metadata": {
    "execution": {
     "iopub.execute_input": "2021-08-23T14:49:19.312821Z",
     "iopub.status.busy": "2021-08-23T14:49:19.312103Z",
     "iopub.status.idle": "2021-08-23T14:49:21.400428Z",
     "shell.execute_reply": "2021-08-23T14:49:21.399883Z",
     "shell.execute_reply.started": "2021-08-23T14:38:17.819268Z"
    },
    "papermill": {
     "duration": 2.123063,
     "end_time": "2021-08-23T14:49:21.400575",
     "exception": false,
     "start_time": "2021-08-23T14:49:19.277512",
     "status": "completed"
    },
    "tags": []
   },
   "outputs": [
    {
     "name": "stderr",
     "output_type": "stream",
     "text": [
      "/opt/conda/lib/python3.7/site-packages/google/cloud/bigquery/client.py:440: UserWarning: Cannot create BigQuery Storage client, the dependency google-cloud-bigquery-storage is not installed.\n",
      "  \"Cannot create BigQuery Storage client, the dependency \"\n"
     ]
    },
    {
     "name": "stdout",
     "output_type": "stream",
     "text": [
      "    month  num_trips\n",
      "0       1    1972071\n",
      "1       2    1909802\n",
      "2       3    2362105\n",
      "3       4    2194702\n",
      "4       5    2323386\n",
      "5       6    2324472\n",
      "6       7    2054299\n",
      "7       8    2079861\n",
      "8       9    1950631\n",
      "9      10    2141197\n",
      "10     11    1907997\n",
      "11     12    1767480\n"
     ]
    },
    {
     "data": {
      "application/javascript": [
       "parent.postMessage({\"jupyterEvent\": \"custom.exercise_interaction\", \"data\": {\"outcomeType\": 1, \"valueTowardsCompletion\": 0.16666666666666666, \"interactionType\": 1, \"questionType\": 2, \"questionId\": \"4_MonthDistrib\", \"learnToolsVersion\": \"0.3.4\", \"failureMessage\": \"\", \"exceptionClass\": \"\", \"trace\": \"\"}}, \"*\")"
      ],
      "text/plain": [
       "<IPython.core.display.Javascript object>"
      ]
     },
     "metadata": {},
     "output_type": "display_data"
    },
    {
     "data": {
      "text/markdown": [
       "<span style=\"color:#33cc33\">Correct</span>"
      ],
      "text/plain": [
       "Correct"
      ]
     },
     "metadata": {},
     "output_type": "display_data"
    }
   ],
   "source": [
    "# Your code goes here\n",
    "rides_per_month_query = \"\"\"\n",
    "                        SELECT EXTRACT(MONTH FROM trip_start_timestamp) AS month, COUNT(1) AS num_trips,   \n",
    "                        FROM `bigquery-public-data.chicago_taxi_trips.taxi_trips`\n",
    "                        WHERE EXTRACT(YEAR FROM trip_start_timestamp) = 2017\n",
    "                        GROUP BY month\n",
    "                        ORDER BY month\n",
    "                        \"\"\"\n",
    "                       \n",
    "# Set up the query\n",
    "safe_config = bigquery.QueryJobConfig(maximum_bytes_billed=10**10)\n",
    "rides_per_month_query_job = client.query(rides_per_month_query, job_config=safe_config)\n",
    "\n",
    "# API request - run the query, and return a pandas DataFrame\n",
    "rides_per_month_result = rides_per_month_query_job.to_dataframe()\n",
    "\n",
    "# View results\n",
    "print(rides_per_month_result)\n",
    "\n",
    "# Check your answer\n",
    "q_4.check()"
   ]
  },
  {
   "cell_type": "markdown",
   "id": "d1e3df81",
   "metadata": {
    "papermill": {
     "duration": 0.026326,
     "end_time": "2021-08-23T14:49:21.453701",
     "exception": false,
     "start_time": "2021-08-23T14:49:21.427375",
     "status": "completed"
    },
    "tags": []
   },
   "source": [
    "For a hint or the solution, uncomment the appropriate line below."
   ]
  },
  {
   "cell_type": "code",
   "execution_count": 11,
   "id": "2a0824ef",
   "metadata": {
    "execution": {
     "iopub.execute_input": "2021-08-23T14:49:21.513536Z",
     "iopub.status.busy": "2021-08-23T14:49:21.512918Z",
     "iopub.status.idle": "2021-08-23T14:49:21.515351Z",
     "shell.execute_reply": "2021-08-23T14:49:21.514769Z",
     "shell.execute_reply.started": "2021-08-23T13:51:04.776712Z"
    },
    "papermill": {
     "duration": 0.034334,
     "end_time": "2021-08-23T14:49:21.515483",
     "exception": false,
     "start_time": "2021-08-23T14:49:21.481149",
     "status": "completed"
    },
    "tags": []
   },
   "outputs": [],
   "source": [
    "#q_4.hint()\n",
    "#q_4.solution()"
   ]
  },
  {
   "cell_type": "markdown",
   "id": "a8245d83",
   "metadata": {
    "papermill": {
     "duration": 0.026783,
     "end_time": "2021-08-23T14:49:21.569400",
     "exception": false,
     "start_time": "2021-08-23T14:49:21.542617",
     "status": "completed"
    },
    "tags": []
   },
   "source": [
    "### 5) Write the query\n",
    "\n",
    "It's time to step up the sophistication of your queries.  Write a query that shows, for each hour of the day in the dataset, the corresponding number of trips and average speed.\n",
    "\n",
    "Your results should have three columns:\n",
    "- `hour_of_day` - sort by this column, which holds the result of extracting the hour from `trip_start_timestamp`.\n",
    "- `num_trips` - the count of the total number of trips in each hour of the day (e.g. how many trips were started between 6AM and 7AM, independent of which day it occurred on).\n",
    "- `avg_mph` - the average speed, measured in miles per hour, for trips that started in that hour of the day.  Average speed in miles per hour is calculated as `3600 * SUM(trip_miles) / SUM(trip_seconds)`. (The value 3600 is used to convert from seconds to hours.)\n",
    "\n",
    "Restrict your query to data meeting the following criteria:\n",
    "- a `trip_start_timestamp` between **2017-01-01** and **2017-07-01**\n",
    "- `trip_seconds` > 0 and `trip_miles` > 0\n",
    "\n",
    "You will use a common table expression (CTE) to select just the relevant rides.  Because this dataset is very big, this CTE should select only the columns you'll need to create the final output (though you won't actually create those in the CTE -- instead you'll create those in the later **SELECT** statement below the CTE).\n",
    "\n",
    "This is a much harder query than anything you've written so far.  Good luck!"
   ]
  },
  {
   "cell_type": "code",
   "execution_count": 12,
   "id": "3eb7c0ce",
   "metadata": {
    "execution": {
     "iopub.execute_input": "2021-08-23T14:49:21.632737Z",
     "iopub.status.busy": "2021-08-23T14:49:21.632044Z",
     "iopub.status.idle": "2021-08-23T14:49:22.978256Z",
     "shell.execute_reply": "2021-08-23T14:49:22.977692Z",
     "shell.execute_reply.started": "2021-08-23T14:44:33.876817Z"
    },
    "papermill": {
     "duration": 1.3814,
     "end_time": "2021-08-23T14:49:22.978395",
     "exception": false,
     "start_time": "2021-08-23T14:49:21.596995",
     "status": "completed"
    },
    "tags": []
   },
   "outputs": [
    {
     "name": "stderr",
     "output_type": "stream",
     "text": [
      "/opt/conda/lib/python3.7/site-packages/google/cloud/bigquery/client.py:440: UserWarning: Cannot create BigQuery Storage client, the dependency google-cloud-bigquery-storage is not installed.\n",
      "  \"Cannot create BigQuery Storage client, the dependency \"\n"
     ]
    },
    {
     "name": "stdout",
     "output_type": "stream",
     "text": [
      "    hour_of_day  num_trips    avg_mph\n",
      "0             0     319339  20.230524\n",
      "1             1     266529  18.937621\n",
      "2             2     210147  18.777070\n",
      "3             3     159668  20.158048\n",
      "4             4     122183  26.736014\n",
      "5             5     119312  30.769172\n",
      "6             6     182738  24.588313\n",
      "7             7     358406  17.735967\n",
      "8             8     541775  15.079892\n",
      "9             9     565548  16.543882\n",
      "10           10     525120  18.539614\n",
      "11           11     594603  18.928379\n",
      "12           12     622324  17.838745\n",
      "13           13     630181  17.671089\n",
      "14           14     622465  16.974239\n",
      "15           15     640430  15.688418\n",
      "16           16     701435  14.283888\n",
      "17           17     756627  12.462955\n",
      "18           18     768251  13.646810\n",
      "19           19     701064  16.642882\n",
      "20           20     598614  19.536777\n",
      "21           21     552726  20.433874\n",
      "22           22     501095  19.531374\n",
      "23           23     399587  19.877046\n"
     ]
    },
    {
     "data": {
      "application/javascript": [
       "parent.postMessage({\"jupyterEvent\": \"custom.exercise_interaction\", \"data\": {\"outcomeType\": 1, \"valueTowardsCompletion\": 0.16666666666666666, \"interactionType\": 1, \"questionType\": 2, \"questionId\": \"5_TheLongQuery\", \"learnToolsVersion\": \"0.3.4\", \"failureMessage\": \"\", \"exceptionClass\": \"\", \"trace\": \"\"}}, \"*\")"
      ],
      "text/plain": [
       "<IPython.core.display.Javascript object>"
      ]
     },
     "metadata": {},
     "output_type": "display_data"
    },
    {
     "data": {
      "text/markdown": [
       "<span style=\"color:#33cc33\">Correct</span>"
      ],
      "text/plain": [
       "Correct"
      ]
     },
     "metadata": {},
     "output_type": "display_data"
    }
   ],
   "source": [
    "# Your code goes here\n",
    "speeds_query = \"\"\"\n",
    "               WITH RelevantRides AS\n",
    "               (\n",
    "                   SELECT EXTRACT(HOUR FROM trip_start_timestamp) AS hour_of_day, \n",
    "                          trip_miles, \n",
    "                          trip_seconds\n",
    "                   FROM `bigquery-public-data.chicago_taxi_trips.taxi_trips`\n",
    "                   WHERE trip_start_timestamp > '2017-01-01' AND \n",
    "                         trip_start_timestamp < '2017-07-01' AND \n",
    "                         trip_seconds > 0 AND \n",
    "                         trip_miles > 0\n",
    "               )\n",
    "               SELECT hour_of_day, \n",
    "                      COUNT(1) AS num_trips, \n",
    "                      3600 * SUM(trip_miles) / SUM(trip_seconds) AS avg_mph\n",
    "               FROM RelevantRides\n",
    "               GROUP BY hour_of_day\n",
    "               ORDER BY hour_of_day\n",
    "               \"\"\"\n",
    "\n",
    "# Set up the query\n",
    "safe_config = bigquery.QueryJobConfig(maximum_bytes_billed=10**10)\n",
    "speeds_query_job = client.query(speeds_query, job_config=safe_config)\n",
    "\n",
    "# API request - run the query, and return a pandas DataFrame\n",
    "speeds_result = speeds_query_job.to_dataframe()\n",
    "\n",
    "# View results\n",
    "print(speeds_result)\n",
    "\n",
    "# Check your answer\n",
    "q_5.check()"
   ]
  },
  {
   "cell_type": "markdown",
   "id": "24855839",
   "metadata": {
    "papermill": {
     "duration": 0.027929,
     "end_time": "2021-08-23T14:49:23.034953",
     "exception": false,
     "start_time": "2021-08-23T14:49:23.007024",
     "status": "completed"
    },
    "tags": []
   },
   "source": [
    "For the solution, uncomment the appropriate line below."
   ]
  },
  {
   "cell_type": "code",
   "execution_count": 13,
   "id": "a6a9d094",
   "metadata": {
    "execution": {
     "iopub.execute_input": "2021-08-23T14:49:23.096003Z",
     "iopub.status.busy": "2021-08-23T14:49:23.095299Z",
     "iopub.status.idle": "2021-08-23T14:49:23.098838Z",
     "shell.execute_reply": "2021-08-23T14:49:23.098283Z",
     "shell.execute_reply.started": "2021-08-23T14:48:36.299923Z"
    },
    "papermill": {
     "duration": 0.035933,
     "end_time": "2021-08-23T14:49:23.098985",
     "exception": false,
     "start_time": "2021-08-23T14:49:23.063052",
     "status": "completed"
    },
    "tags": []
   },
   "outputs": [],
   "source": [
    "#q_5.solution()"
   ]
  },
  {
   "cell_type": "markdown",
   "id": "ddb8ba01",
   "metadata": {
    "papermill": {
     "duration": 0.02834,
     "end_time": "2021-08-23T14:49:23.156166",
     "exception": false,
     "start_time": "2021-08-23T14:49:23.127826",
     "status": "completed"
    },
    "tags": []
   },
   "source": [
    "That's a hard query. If you made good progress towards the solution, congratulations!"
   ]
  },
  {
   "cell_type": "markdown",
   "id": "f19f17b6",
   "metadata": {
    "papermill": {
     "duration": 0.028004,
     "end_time": "2021-08-23T14:49:23.212971",
     "exception": false,
     "start_time": "2021-08-23T14:49:23.184967",
     "status": "completed"
    },
    "tags": []
   },
   "source": [
    "# Keep going\n",
    "\n",
    "You can write very complex queries now with a single data source. But nothing expands the horizons of SQL as much as the ability to combine or **JOIN** tables.\n",
    "\n",
    "**[Click here](https://www.kaggle.com/dansbecker/joining-data)** to start the last lesson in the Intro to SQL micro-course."
   ]
  },
  {
   "cell_type": "markdown",
   "id": "d3afa2ae",
   "metadata": {
    "papermill": {
     "duration": 0.027955,
     "end_time": "2021-08-23T14:49:23.269311",
     "exception": false,
     "start_time": "2021-08-23T14:49:23.241356",
     "status": "completed"
    },
    "tags": []
   },
   "source": [
    "---\n",
    "\n",
    "\n",
    "\n",
    "\n",
    "*Have questions or comments? Visit the [Learn Discussion forum](https://www.kaggle.com/learn-forum/161314) to chat with other Learners.*"
   ]
  }
 ],
 "metadata": {
  "kernelspec": {
   "display_name": "Python 3",
   "language": "python",
   "name": "python3"
  },
  "language_info": {
   "codemirror_mode": {
    "name": "ipython",
    "version": 3
   },
   "file_extension": ".py",
   "mimetype": "text/x-python",
   "name": "python",
   "nbconvert_exporter": "python",
   "pygments_lexer": "ipython3",
   "version": "3.7.10"
  },
  "papermill": {
   "default_parameters": {},
   "duration": 20.77981,
   "end_time": "2021-08-23T14:49:24.731997",
   "environment_variables": {},
   "exception": null,
   "input_path": "__notebook__.ipynb",
   "output_path": "__notebook__.ipynb",
   "parameters": {},
   "start_time": "2021-08-23T14:49:03.952187",
   "version": "2.3.3"
  }
 },
 "nbformat": 4,
 "nbformat_minor": 5
}
