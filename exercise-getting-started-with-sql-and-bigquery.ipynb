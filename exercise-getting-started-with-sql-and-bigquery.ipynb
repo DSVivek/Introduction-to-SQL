{
 "cells": [
  {
   "cell_type": "markdown",
   "id": "176e01a1",
   "metadata": {
    "papermill": {
     "duration": 0.017118,
     "end_time": "2021-08-20T09:14:06.059705",
     "exception": false,
     "start_time": "2021-08-20T09:14:06.042587",
     "status": "completed"
    },
    "tags": []
   },
   "source": [
    "**This notebook is an exercise in the [SQL](https://www.kaggle.com/learn/intro-to-sql) course.  You can reference the tutorial at [this link](https://www.kaggle.com/dansbecker/getting-started-with-sql-and-bigquery).**\n",
    "\n",
    "---\n"
   ]
  },
  {
   "cell_type": "markdown",
   "id": "fa38ab7c",
   "metadata": {
    "papermill": {
     "duration": 0.015827,
     "end_time": "2021-08-20T09:14:06.094398",
     "exception": false,
     "start_time": "2021-08-20T09:14:06.078571",
     "status": "completed"
    },
    "tags": []
   },
   "source": [
    "# Introduction\n",
    "\n",
    "The first test of your new data exploration skills uses data describing crime in the city of Chicago.\n",
    "\n",
    "Before you get started, run the following cell. It sets up the automated feedback system to review your answers."
   ]
  },
  {
   "cell_type": "code",
   "execution_count": 1,
   "id": "61f65d2f",
   "metadata": {
    "execution": {
     "iopub.execute_input": "2021-08-20T09:14:06.139506Z",
     "iopub.status.busy": "2021-08-20T09:14:06.138734Z",
     "iopub.status.idle": "2021-08-20T09:14:07.046521Z",
     "shell.execute_reply": "2021-08-20T09:14:07.045827Z",
     "shell.execute_reply.started": "2021-08-20T08:47:06.798812Z"
    },
    "papermill": {
     "duration": 0.935342,
     "end_time": "2021-08-20T09:14:07.046691",
     "exception": false,
     "start_time": "2021-08-20T09:14:06.111349",
     "status": "completed"
    },
    "tags": []
   },
   "outputs": [
    {
     "name": "stdout",
     "output_type": "stream",
     "text": [
      "Using Kaggle's public dataset BigQuery integration.\n",
      "Setup Complete\n"
     ]
    }
   ],
   "source": [
    "# Set up feedack system\n",
    "from learntools.core import binder\n",
    "binder.bind(globals())\n",
    "from learntools.sql.ex1 import *\n",
    "print(\"Setup Complete\")"
   ]
  },
  {
   "cell_type": "markdown",
   "id": "c265d28c",
   "metadata": {
    "papermill": {
     "duration": 0.016456,
     "end_time": "2021-08-20T09:14:07.080602",
     "exception": false,
     "start_time": "2021-08-20T09:14:07.064146",
     "status": "completed"
    },
    "tags": []
   },
   "source": [
    "Use the next code cell to fetch the dataset."
   ]
  },
  {
   "cell_type": "code",
   "execution_count": 2,
   "id": "8474f4ce",
   "metadata": {
    "execution": {
     "iopub.execute_input": "2021-08-20T09:14:07.121269Z",
     "iopub.status.busy": "2021-08-20T09:14:07.119004Z",
     "iopub.status.idle": "2021-08-20T09:14:07.487199Z",
     "shell.execute_reply": "2021-08-20T09:14:07.486641Z",
     "shell.execute_reply.started": "2021-08-20T08:48:07.540267Z"
    },
    "papermill": {
     "duration": 0.390009,
     "end_time": "2021-08-20T09:14:07.487352",
     "exception": false,
     "start_time": "2021-08-20T09:14:07.097343",
     "status": "completed"
    },
    "tags": []
   },
   "outputs": [
    {
     "name": "stdout",
     "output_type": "stream",
     "text": [
      "Using Kaggle's public dataset BigQuery integration.\n"
     ]
    }
   ],
   "source": [
    "from google.cloud import bigquery\n",
    "\n",
    "# Create a \"Client\" object\n",
    "client = bigquery.Client()\n",
    "\n",
    "# Construct a reference to the \"chicago_crime\" dataset\n",
    "dataset_ref = client.dataset(\"chicago_crime\", project=\"bigquery-public-data\")\n",
    "\n",
    "# API request - fetch the dataset\n",
    "dataset = client.get_dataset(dataset_ref)"
   ]
  },
  {
   "cell_type": "markdown",
   "id": "1ce1b665",
   "metadata": {
    "papermill": {
     "duration": 0.016703,
     "end_time": "2021-08-20T09:14:07.522089",
     "exception": false,
     "start_time": "2021-08-20T09:14:07.505386",
     "status": "completed"
    },
    "tags": []
   },
   "source": [
    "# Exercises\n",
    "\n",
    "### 1) Count tables in the dataset\n",
    "\n",
    "How many tables are in the Chicago Crime dataset?"
   ]
  },
  {
   "cell_type": "code",
   "execution_count": 3,
   "id": "e83976de",
   "metadata": {
    "execution": {
     "iopub.execute_input": "2021-08-20T09:14:07.563263Z",
     "iopub.status.busy": "2021-08-20T09:14:07.562612Z",
     "iopub.status.idle": "2021-08-20T09:14:07.797628Z",
     "shell.execute_reply": "2021-08-20T09:14:07.798542Z",
     "shell.execute_reply.started": "2021-08-20T08:59:01.956300Z"
    },
    "papermill": {
     "duration": 0.259848,
     "end_time": "2021-08-20T09:14:07.798869",
     "exception": false,
     "start_time": "2021-08-20T09:14:07.539021",
     "status": "completed"
    },
    "tags": []
   },
   "outputs": [
    {
     "name": "stdout",
     "output_type": "stream",
     "text": [
      "1\n"
     ]
    }
   ],
   "source": [
    "# Write the code you need here to figure out the answer\n",
    "tables = list(client.list_tables(dataset)) \n",
    "\n",
    "# To print all the table names\n",
    "#for table in tables:\n",
    "    #print(table.table_id)\n",
    "    \n",
    "# To know the number of tables\n",
    "print(len(tables))    "
   ]
  },
  {
   "cell_type": "code",
   "execution_count": 4,
   "id": "5276713b",
   "metadata": {
    "execution": {
     "iopub.execute_input": "2021-08-20T09:14:07.842407Z",
     "iopub.status.busy": "2021-08-20T09:14:07.841732Z",
     "iopub.status.idle": "2021-08-20T09:14:07.847671Z",
     "shell.execute_reply": "2021-08-20T09:14:07.847183Z",
     "shell.execute_reply.started": "2021-08-20T08:59:05.709076Z"
    },
    "papermill": {
     "duration": 0.030345,
     "end_time": "2021-08-20T09:14:07.847832",
     "exception": false,
     "start_time": "2021-08-20T09:14:07.817487",
     "status": "completed"
    },
    "tags": []
   },
   "outputs": [
    {
     "data": {
      "application/javascript": [
       "parent.postMessage({\"jupyterEvent\": \"custom.exercise_interaction\", \"data\": {\"outcomeType\": 1, \"valueTowardsCompletion\": 0.3333333333333333, \"interactionType\": 1, \"questionType\": 1, \"questionId\": \"1_CountTables\", \"learnToolsVersion\": \"0.3.4\", \"failureMessage\": \"\", \"exceptionClass\": \"\", \"trace\": \"\"}}, \"*\")"
      ],
      "text/plain": [
       "<IPython.core.display.Javascript object>"
      ]
     },
     "metadata": {},
     "output_type": "display_data"
    },
    {
     "data": {
      "text/markdown": [
       "<span style=\"color:#33cc33\">Correct</span>"
      ],
      "text/plain": [
       "Correct"
      ]
     },
     "metadata": {},
     "output_type": "display_data"
    }
   ],
   "source": [
    "num_tables = 1  # Store the answer as num_tables and then run this cell\n",
    "\n",
    "# Check your answer\n",
    "q_1.check()"
   ]
  },
  {
   "cell_type": "markdown",
   "id": "8c6ab2a9",
   "metadata": {
    "papermill": {
     "duration": 0.018993,
     "end_time": "2021-08-20T09:14:07.885182",
     "exception": false,
     "start_time": "2021-08-20T09:14:07.866189",
     "status": "completed"
    },
    "tags": []
   },
   "source": [
    "For a hint or the solution, uncomment the appropriate line below."
   ]
  },
  {
   "cell_type": "code",
   "execution_count": 5,
   "id": "90f81deb",
   "metadata": {
    "execution": {
     "iopub.execute_input": "2021-08-20T09:14:07.927315Z",
     "iopub.status.busy": "2021-08-20T09:14:07.926608Z",
     "iopub.status.idle": "2021-08-20T09:14:07.929774Z",
     "shell.execute_reply": "2021-08-20T09:14:07.929231Z",
     "shell.execute_reply.started": "2021-08-20T08:53:28.215535Z"
    },
    "papermill": {
     "duration": 0.025726,
     "end_time": "2021-08-20T09:14:07.929953",
     "exception": false,
     "start_time": "2021-08-20T09:14:07.904227",
     "status": "completed"
    },
    "tags": []
   },
   "outputs": [],
   "source": [
    "#q_1.hint()\n",
    "#q_1.solution()"
   ]
  },
  {
   "cell_type": "markdown",
   "id": "d712d330",
   "metadata": {
    "papermill": {
     "duration": 0.017962,
     "end_time": "2021-08-20T09:14:07.966481",
     "exception": false,
     "start_time": "2021-08-20T09:14:07.948519",
     "status": "completed"
    },
    "tags": []
   },
   "source": [
    "### 2) Explore the table schema\n",
    "\n",
    "How many columns in the `crime` table have `TIMESTAMP` data?"
   ]
  },
  {
   "cell_type": "code",
   "execution_count": 6,
   "id": "eb75c255",
   "metadata": {
    "execution": {
     "iopub.execute_input": "2021-08-20T09:14:08.010995Z",
     "iopub.status.busy": "2021-08-20T09:14:08.010254Z",
     "iopub.status.idle": "2021-08-20T09:14:08.259734Z",
     "shell.execute_reply": "2021-08-20T09:14:08.259198Z",
     "shell.execute_reply.started": "2021-08-20T09:04:36.561137Z"
    },
    "papermill": {
     "duration": 0.27414,
     "end_time": "2021-08-20T09:14:08.259911",
     "exception": false,
     "start_time": "2021-08-20T09:14:07.985771",
     "status": "completed"
    },
    "tags": []
   },
   "outputs": [
    {
     "data": {
      "text/plain": [
       "[SchemaField('unique_key', 'INTEGER', 'REQUIRED', 'Unique identifier for the record.', (), None),\n",
       " SchemaField('case_number', 'STRING', 'NULLABLE', 'The Chicago Police Department RD Number (Records Division Number), which is unique to the incident.', (), None),\n",
       " SchemaField('date', 'TIMESTAMP', 'NULLABLE', 'Date when the incident occurred. this is sometimes a best estimate.', (), None),\n",
       " SchemaField('block', 'STRING', 'NULLABLE', 'The partially redacted address where the incident occurred, placing it on the same block as the actual address.', (), None),\n",
       " SchemaField('iucr', 'STRING', 'NULLABLE', 'The Illinois Unifrom Crime Reporting code. This is directly linked to the Primary Type and Description. See the list of IUCR codes at https://data.cityofchicago.org/d/c7ck-438e.', (), None),\n",
       " SchemaField('primary_type', 'STRING', 'NULLABLE', 'The primary description of the IUCR code.', (), None),\n",
       " SchemaField('description', 'STRING', 'NULLABLE', 'The secondary description of the IUCR code, a subcategory of the primary description.', (), None),\n",
       " SchemaField('location_description', 'STRING', 'NULLABLE', 'Description of the location where the incident occurred.', (), None),\n",
       " SchemaField('arrest', 'BOOLEAN', 'NULLABLE', 'Indicates whether an arrest was made.', (), None),\n",
       " SchemaField('domestic', 'BOOLEAN', 'NULLABLE', 'Indicates whether the incident was domestic-related as defined by the Illinois Domestic Violence Act.', (), None),\n",
       " SchemaField('beat', 'INTEGER', 'NULLABLE', 'Indicates the beat where the incident occurred. A beat is the smallest police geographic area – each beat has a dedicated police beat car. Three to five beats make up a police sector, and three sectors make up a police district. The Chicago Police Department has 22 police districts. See the beats at https://data.cityofchicago.org/d/aerh-rz74.', (), None),\n",
       " SchemaField('district', 'INTEGER', 'NULLABLE', 'Indicates the police district where the incident occurred. See the districts at https://data.cityofchicago.org/d/fthy-xz3r.', (), None),\n",
       " SchemaField('ward', 'INTEGER', 'NULLABLE', 'The ward (City Council district) where the incident occurred. See the wards at https://data.cityofchicago.org/d/sp34-6z76.', (), None),\n",
       " SchemaField('community_area', 'INTEGER', 'NULLABLE', 'Indicates the community area where the incident occurred. Chicago has 77 community areas. See the community areas at https://data.cityofchicago.org/d/cauq-8yn6.', (), None),\n",
       " SchemaField('fbi_code', 'STRING', 'NULLABLE', \"Indicates the crime classification as outlined in the FBI's National Incident-Based Reporting System (NIBRS). See the Chicago Police Department listing of these classifications at http://gis.chicagopolice.org/clearmap_crime_sums/crime_types.html.\", (), None),\n",
       " SchemaField('x_coordinate', 'FLOAT', 'NULLABLE', 'The x coordinate of the location where the incident occurred in State Plane Illinois East NAD 1983 projection. This location is shifted from the actual location for partial redaction but falls on the same block.', (), None),\n",
       " SchemaField('y_coordinate', 'FLOAT', 'NULLABLE', 'The y coordinate of the location where the incident occurred in State Plane Illinois East NAD 1983 projection. This location is shifted from the actual location for partial redaction but falls on the same block.', (), None),\n",
       " SchemaField('year', 'INTEGER', 'NULLABLE', 'Year the incident occurred.', (), None),\n",
       " SchemaField('updated_on', 'TIMESTAMP', 'NULLABLE', 'Date and time the record was last updated.', (), None),\n",
       " SchemaField('latitude', 'FLOAT', 'NULLABLE', 'The latitude of the location where the incident occurred. This location is shifted from the actual location for partial redaction but falls on the same block.', (), None),\n",
       " SchemaField('longitude', 'FLOAT', 'NULLABLE', 'The longitude of the location where the incident occurred. This location is shifted from the actual location for partial redaction but falls on the same block.', (), None),\n",
       " SchemaField('location', 'STRING', 'NULLABLE', 'The location where the incident occurred in a format that allows for creation of maps and other geographic operations on this data portal. This location is shifted from the actual location for partial redaction but falls on the same block.', (), None)]"
      ]
     },
     "execution_count": 6,
     "metadata": {},
     "output_type": "execute_result"
    }
   ],
   "source": [
    "# Write the code to figure out the answer\n",
    "table_ref = dataset_ref.table(\"crime\")\n",
    "\n",
    "table = client.get_table(table_ref)\n",
    "\n",
    "table.schema"
   ]
  },
  {
   "cell_type": "code",
   "execution_count": 7,
   "id": "dd2cd585",
   "metadata": {
    "execution": {
     "iopub.execute_input": "2021-08-20T09:14:08.304699Z",
     "iopub.status.busy": "2021-08-20T09:14:08.303698Z",
     "iopub.status.idle": "2021-08-20T09:14:08.310931Z",
     "shell.execute_reply": "2021-08-20T09:14:08.310186Z",
     "shell.execute_reply.started": "2021-08-20T09:05:40.014013Z"
    },
    "papermill": {
     "duration": 0.031842,
     "end_time": "2021-08-20T09:14:08.311085",
     "exception": false,
     "start_time": "2021-08-20T09:14:08.279243",
     "status": "completed"
    },
    "tags": []
   },
   "outputs": [
    {
     "data": {
      "application/javascript": [
       "parent.postMessage({\"jupyterEvent\": \"custom.exercise_interaction\", \"data\": {\"outcomeType\": 1, \"valueTowardsCompletion\": 0.3333333333333333, \"interactionType\": 1, \"questionType\": 1, \"questionId\": \"2_CountTimestampFields\", \"learnToolsVersion\": \"0.3.4\", \"failureMessage\": \"\", \"exceptionClass\": \"\", \"trace\": \"\"}}, \"*\")"
      ],
      "text/plain": [
       "<IPython.core.display.Javascript object>"
      ]
     },
     "metadata": {},
     "output_type": "display_data"
    },
    {
     "data": {
      "text/markdown": [
       "<span style=\"color:#33cc33\">Correct</span>"
      ],
      "text/plain": [
       "Correct"
      ]
     },
     "metadata": {},
     "output_type": "display_data"
    }
   ],
   "source": [
    "num_timestamp_fields = 2 # Put your answer here\n",
    "\n",
    "# Check your answer\n",
    "q_2.check()"
   ]
  },
  {
   "cell_type": "markdown",
   "id": "fcc52fb3",
   "metadata": {
    "papermill": {
     "duration": 0.023266,
     "end_time": "2021-08-20T09:14:08.354234",
     "exception": false,
     "start_time": "2021-08-20T09:14:08.330968",
     "status": "completed"
    },
    "tags": []
   },
   "source": [
    "For a hint or the solution, uncomment the appropriate line below."
   ]
  },
  {
   "cell_type": "code",
   "execution_count": 8,
   "id": "07970330",
   "metadata": {
    "execution": {
     "iopub.execute_input": "2021-08-20T09:14:08.410448Z",
     "iopub.status.busy": "2021-08-20T09:14:08.409421Z",
     "iopub.status.idle": "2021-08-20T09:14:08.411263Z",
     "shell.execute_reply": "2021-08-20T09:14:08.411976Z",
     "shell.execute_reply.started": "2021-08-20T09:05:57.148645Z"
    },
    "papermill": {
     "duration": 0.03225,
     "end_time": "2021-08-20T09:14:08.412204",
     "exception": false,
     "start_time": "2021-08-20T09:14:08.379954",
     "status": "completed"
    },
    "tags": []
   },
   "outputs": [],
   "source": [
    "#q_2.hint()\n",
    "#q_2.solution()"
   ]
  },
  {
   "cell_type": "markdown",
   "id": "e35a6ad6",
   "metadata": {
    "papermill": {
     "duration": 0.020661,
     "end_time": "2021-08-20T09:14:08.454620",
     "exception": false,
     "start_time": "2021-08-20T09:14:08.433959",
     "status": "completed"
    },
    "tags": []
   },
   "source": [
    "### 3) Create a crime map\n",
    "\n",
    "If you wanted to create a map with a dot at the location of each crime, what are the names of the two fields you likely need to pull out of the `crime` table to plot the crimes on a map?"
   ]
  },
  {
   "cell_type": "code",
   "execution_count": 9,
   "id": "f52759fb",
   "metadata": {
    "execution": {
     "iopub.execute_input": "2021-08-20T09:14:08.512650Z",
     "iopub.status.busy": "2021-08-20T09:14:08.511876Z",
     "iopub.status.idle": "2021-08-20T09:14:09.037095Z",
     "shell.execute_reply": "2021-08-20T09:14:09.036541Z",
     "shell.execute_reply.started": "2021-08-20T09:07:36.609950Z"
    },
    "papermill": {
     "duration": 0.560941,
     "end_time": "2021-08-20T09:14:09.037256",
     "exception": false,
     "start_time": "2021-08-20T09:14:08.476315",
     "status": "completed"
    },
    "tags": []
   },
   "outputs": [
    {
     "name": "stderr",
     "output_type": "stream",
     "text": [
      "/opt/conda/lib/python3.7/site-packages/ipykernel_launcher.py:2: UserWarning: Cannot use bqstorage_client if max_results is set, reverting to fetching data with the tabledata.list endpoint.\n",
      "  \n"
     ]
    },
    {
     "data": {
      "text/html": [
       "<div>\n",
       "<style scoped>\n",
       "    .dataframe tbody tr th:only-of-type {\n",
       "        vertical-align: middle;\n",
       "    }\n",
       "\n",
       "    .dataframe tbody tr th {\n",
       "        vertical-align: top;\n",
       "    }\n",
       "\n",
       "    .dataframe thead th {\n",
       "        text-align: right;\n",
       "    }\n",
       "</style>\n",
       "<table border=\"1\" class=\"dataframe\">\n",
       "  <thead>\n",
       "    <tr style=\"text-align: right;\">\n",
       "      <th></th>\n",
       "      <th>unique_key</th>\n",
       "      <th>case_number</th>\n",
       "      <th>date</th>\n",
       "      <th>block</th>\n",
       "      <th>iucr</th>\n",
       "      <th>primary_type</th>\n",
       "      <th>description</th>\n",
       "      <th>location_description</th>\n",
       "      <th>arrest</th>\n",
       "      <th>domestic</th>\n",
       "      <th>...</th>\n",
       "      <th>ward</th>\n",
       "      <th>community_area</th>\n",
       "      <th>fbi_code</th>\n",
       "      <th>x_coordinate</th>\n",
       "      <th>y_coordinate</th>\n",
       "      <th>year</th>\n",
       "      <th>updated_on</th>\n",
       "      <th>latitude</th>\n",
       "      <th>longitude</th>\n",
       "      <th>location</th>\n",
       "    </tr>\n",
       "  </thead>\n",
       "  <tbody>\n",
       "    <tr>\n",
       "      <th>0</th>\n",
       "      <td>10229728</td>\n",
       "      <td>HY416889</td>\n",
       "      <td>2015-09-09 15:45:00+00:00</td>\n",
       "      <td>062XX N LINCOLN AVE</td>\n",
       "      <td>0520</td>\n",
       "      <td>ASSAULT</td>\n",
       "      <td>AGGRAVATED:KNIFE/CUTTING INSTR</td>\n",
       "      <td>HOTEL/MOTEL</td>\n",
       "      <td>False</td>\n",
       "      <td>False</td>\n",
       "      <td>...</td>\n",
       "      <td>50</td>\n",
       "      <td>13</td>\n",
       "      <td>04A</td>\n",
       "      <td>1152199.0</td>\n",
       "      <td>1941511.0</td>\n",
       "      <td>2015</td>\n",
       "      <td>2018-02-10 15:50:01+00:00</td>\n",
       "      <td>41.995376</td>\n",
       "      <td>-87.715494</td>\n",
       "      <td>(41.995376421, -87.7154944)</td>\n",
       "    </tr>\n",
       "    <tr>\n",
       "      <th>1</th>\n",
       "      <td>10235104</td>\n",
       "      <td>HY420770</td>\n",
       "      <td>2015-09-12 18:00:00+00:00</td>\n",
       "      <td>036XX S WELLS ST</td>\n",
       "      <td>1121</td>\n",
       "      <td>DECEPTIVE PRACTICE</td>\n",
       "      <td>COUNTERFEITING DOCUMENT</td>\n",
       "      <td>STREET</td>\n",
       "      <td>True</td>\n",
       "      <td>False</td>\n",
       "      <td>...</td>\n",
       "      <td>11</td>\n",
       "      <td>34</td>\n",
       "      <td>10</td>\n",
       "      <td>1175216.0</td>\n",
       "      <td>1880819.0</td>\n",
       "      <td>2015</td>\n",
       "      <td>2018-02-10 15:50:01+00:00</td>\n",
       "      <td>41.828348</td>\n",
       "      <td>-87.632651</td>\n",
       "      <td>(41.828347945, -87.632650679)</td>\n",
       "    </tr>\n",
       "    <tr>\n",
       "      <th>2</th>\n",
       "      <td>10088762</td>\n",
       "      <td>HY277352</td>\n",
       "      <td>2015-05-26 08:00:00+00:00</td>\n",
       "      <td>101XX S CHARLES ST</td>\n",
       "      <td>1154</td>\n",
       "      <td>DECEPTIVE PRACTICE</td>\n",
       "      <td>FINANCIAL IDENTITY THEFT $300 AND UNDER</td>\n",
       "      <td>APARTMENT</td>\n",
       "      <td>False</td>\n",
       "      <td>False</td>\n",
       "      <td>...</td>\n",
       "      <td>19</td>\n",
       "      <td>72</td>\n",
       "      <td>11</td>\n",
       "      <td>1168155.0</td>\n",
       "      <td>1837482.0</td>\n",
       "      <td>2015</td>\n",
       "      <td>2018-02-10 15:50:01+00:00</td>\n",
       "      <td>41.709581</td>\n",
       "      <td>-87.659802</td>\n",
       "      <td>(41.709580749, -87.659801889)</td>\n",
       "    </tr>\n",
       "    <tr>\n",
       "      <th>3</th>\n",
       "      <td>10257073</td>\n",
       "      <td>HY444313</td>\n",
       "      <td>2015-09-28 16:00:00+00:00</td>\n",
       "      <td>003XX E 131ST PL</td>\n",
       "      <td>0440</td>\n",
       "      <td>BATTERY</td>\n",
       "      <td>AGG: HANDS/FIST/FEET NO/MINOR INJURY</td>\n",
       "      <td>STREET</td>\n",
       "      <td>False</td>\n",
       "      <td>False</td>\n",
       "      <td>...</td>\n",
       "      <td>9</td>\n",
       "      <td>54</td>\n",
       "      <td>08B</td>\n",
       "      <td>1180564.0</td>\n",
       "      <td>1818326.0</td>\n",
       "      <td>2015</td>\n",
       "      <td>2018-02-10 15:50:01+00:00</td>\n",
       "      <td>41.656739</td>\n",
       "      <td>-87.614944</td>\n",
       "      <td>(41.656738592, -87.61494361)</td>\n",
       "    </tr>\n",
       "    <tr>\n",
       "      <th>4</th>\n",
       "      <td>10281809</td>\n",
       "      <td>HY469964</td>\n",
       "      <td>2015-10-20 15:30:00+00:00</td>\n",
       "      <td>093XX S LUELLA AVE</td>\n",
       "      <td>0265</td>\n",
       "      <td>CRIM SEXUAL ASSAULT</td>\n",
       "      <td>AGGRAVATED: OTHER</td>\n",
       "      <td>RESIDENCE</td>\n",
       "      <td>False</td>\n",
       "      <td>False</td>\n",
       "      <td>...</td>\n",
       "      <td>7</td>\n",
       "      <td>48</td>\n",
       "      <td>02</td>\n",
       "      <td>1192805.0</td>\n",
       "      <td>1843475.0</td>\n",
       "      <td>2015</td>\n",
       "      <td>2018-02-10 15:50:01+00:00</td>\n",
       "      <td>41.725462</td>\n",
       "      <td>-87.569337</td>\n",
       "      <td>(41.72546159, -87.569336546)</td>\n",
       "    </tr>\n",
       "  </tbody>\n",
       "</table>\n",
       "<p>5 rows × 22 columns</p>\n",
       "</div>"
      ],
      "text/plain": [
       "   unique_key case_number                      date                block  \\\n",
       "0    10229728    HY416889 2015-09-09 15:45:00+00:00  062XX N LINCOLN AVE   \n",
       "1    10235104    HY420770 2015-09-12 18:00:00+00:00     036XX S WELLS ST   \n",
       "2    10088762    HY277352 2015-05-26 08:00:00+00:00   101XX S CHARLES ST   \n",
       "3    10257073    HY444313 2015-09-28 16:00:00+00:00     003XX E 131ST PL   \n",
       "4    10281809    HY469964 2015-10-20 15:30:00+00:00   093XX S LUELLA AVE   \n",
       "\n",
       "   iucr         primary_type                              description  \\\n",
       "0  0520              ASSAULT           AGGRAVATED:KNIFE/CUTTING INSTR   \n",
       "1  1121   DECEPTIVE PRACTICE                  COUNTERFEITING DOCUMENT   \n",
       "2  1154   DECEPTIVE PRACTICE  FINANCIAL IDENTITY THEFT $300 AND UNDER   \n",
       "3  0440              BATTERY     AGG: HANDS/FIST/FEET NO/MINOR INJURY   \n",
       "4  0265  CRIM SEXUAL ASSAULT                        AGGRAVATED: OTHER   \n",
       "\n",
       "  location_description  arrest  domestic  ...  ward  community_area  fbi_code  \\\n",
       "0          HOTEL/MOTEL   False     False  ...    50              13       04A   \n",
       "1               STREET    True     False  ...    11              34        10   \n",
       "2            APARTMENT   False     False  ...    19              72        11   \n",
       "3               STREET   False     False  ...     9              54       08B   \n",
       "4            RESIDENCE   False     False  ...     7              48        02   \n",
       "\n",
       "   x_coordinate y_coordinate  year                updated_on   latitude  \\\n",
       "0     1152199.0    1941511.0  2015 2018-02-10 15:50:01+00:00  41.995376   \n",
       "1     1175216.0    1880819.0  2015 2018-02-10 15:50:01+00:00  41.828348   \n",
       "2     1168155.0    1837482.0  2015 2018-02-10 15:50:01+00:00  41.709581   \n",
       "3     1180564.0    1818326.0  2015 2018-02-10 15:50:01+00:00  41.656739   \n",
       "4     1192805.0    1843475.0  2015 2018-02-10 15:50:01+00:00  41.725462   \n",
       "\n",
       "   longitude                       location  \n",
       "0 -87.715494    (41.995376421, -87.7154944)  \n",
       "1 -87.632651  (41.828347945, -87.632650679)  \n",
       "2 -87.659802  (41.709580749, -87.659801889)  \n",
       "3 -87.614944   (41.656738592, -87.61494361)  \n",
       "4 -87.569337   (41.72546159, -87.569336546)  \n",
       "\n",
       "[5 rows x 22 columns]"
      ]
     },
     "execution_count": 9,
     "metadata": {},
     "output_type": "execute_result"
    }
   ],
   "source": [
    "# Write the code here to explore the data so you can find the answer\n",
    "client.list_rows(table, max_results=5).to_dataframe()"
   ]
  },
  {
   "cell_type": "code",
   "execution_count": 10,
   "id": "7999f1c1",
   "metadata": {
    "execution": {
     "iopub.execute_input": "2021-08-20T09:14:09.085824Z",
     "iopub.status.busy": "2021-08-20T09:14:09.084834Z",
     "iopub.status.idle": "2021-08-20T09:14:09.090463Z",
     "shell.execute_reply": "2021-08-20T09:14:09.091089Z",
     "shell.execute_reply.started": "2021-08-20T09:10:38.468323Z"
    },
    "papermill": {
     "duration": 0.032298,
     "end_time": "2021-08-20T09:14:09.091264",
     "exception": false,
     "start_time": "2021-08-20T09:14:09.058966",
     "status": "completed"
    },
    "tags": []
   },
   "outputs": [
    {
     "data": {
      "application/javascript": [
       "parent.postMessage({\"jupyterEvent\": \"custom.exercise_interaction\", \"data\": {\"outcomeType\": 1, \"valueTowardsCompletion\": 0.3333333333333333, \"interactionType\": 1, \"questionType\": 2, \"questionId\": \"3_IdentifyFieldsForPlotting\", \"learnToolsVersion\": \"0.3.4\", \"failureMessage\": \"\", \"exceptionClass\": \"\", \"trace\": \"\"}}, \"*\")"
      ],
      "text/plain": [
       "<IPython.core.display.Javascript object>"
      ]
     },
     "metadata": {},
     "output_type": "display_data"
    },
    {
     "data": {
      "text/markdown": [
       "<span style=\"color:#33cc33\">Correct</span>"
      ],
      "text/plain": [
       "Correct"
      ]
     },
     "metadata": {},
     "output_type": "display_data"
    }
   ],
   "source": [
    "fields_for_plotting = ['latitude', 'longitude'] # Put your answers here\n",
    "\n",
    "# Check your answer\n",
    "q_3.check()"
   ]
  },
  {
   "cell_type": "markdown",
   "id": "151854eb",
   "metadata": {
    "papermill": {
     "duration": 0.02156,
     "end_time": "2021-08-20T09:14:09.137669",
     "exception": false,
     "start_time": "2021-08-20T09:14:09.116109",
     "status": "completed"
    },
    "tags": []
   },
   "source": [
    "For a hint or the solution, uncomment the appropriate line below."
   ]
  },
  {
   "cell_type": "code",
   "execution_count": 11,
   "id": "63156477",
   "metadata": {
    "execution": {
     "iopub.execute_input": "2021-08-20T09:14:09.184902Z",
     "iopub.status.busy": "2021-08-20T09:14:09.183935Z",
     "iopub.status.idle": "2021-08-20T09:14:09.187339Z",
     "shell.execute_reply": "2021-08-20T09:14:09.187925Z"
    },
    "papermill": {
     "duration": 0.028702,
     "end_time": "2021-08-20T09:14:09.188103",
     "exception": false,
     "start_time": "2021-08-20T09:14:09.159401",
     "status": "completed"
    },
    "tags": []
   },
   "outputs": [],
   "source": [
    "#q_3.hint()\n",
    "#q_3.solution()"
   ]
  },
  {
   "cell_type": "markdown",
   "id": "3d30f8da",
   "metadata": {
    "papermill": {
     "duration": 0.021541,
     "end_time": "2021-08-20T09:14:09.231304",
     "exception": false,
     "start_time": "2021-08-20T09:14:09.209763",
     "status": "completed"
    },
    "tags": []
   },
   "source": [
    "Thinking about the question above, there are a few columns that appear to have geographic data. Look at a few values (with the `list_rows()` command) to see if you can determine their relationship.  Two columns will still be hard to interpret. But it should be obvious how the `location` column relates to `latitude` and `longitude`."
   ]
  },
  {
   "cell_type": "code",
   "execution_count": 12,
   "id": "d1a90af8",
   "metadata": {
    "execution": {
     "iopub.execute_input": "2021-08-20T09:14:09.278889Z",
     "iopub.status.busy": "2021-08-20T09:14:09.277879Z",
     "iopub.status.idle": "2021-08-20T09:14:09.281936Z",
     "shell.execute_reply": "2021-08-20T09:14:09.282385Z",
     "shell.execute_reply.started": "2021-08-20T09:13:28.642108Z"
    },
    "papermill": {
     "duration": 0.029274,
     "end_time": "2021-08-20T09:14:09.282576",
     "exception": false,
     "start_time": "2021-08-20T09:14:09.253302",
     "status": "completed"
    },
    "tags": []
   },
   "outputs": [],
   "source": [
    "# Scratch space for your code\n"
   ]
  },
  {
   "cell_type": "markdown",
   "id": "39f2d396",
   "metadata": {
    "papermill": {
     "duration": 0.021574,
     "end_time": "2021-08-20T09:14:09.326232",
     "exception": false,
     "start_time": "2021-08-20T09:14:09.304658",
     "status": "completed"
    },
    "tags": []
   },
   "source": [
    "# Keep going\n",
    "\n",
    "You've looked at the schema, but you haven't yet done anything exciting with the data itself. Things get more interesting when you get to the data, so keep going to **[write your first SQL query](https://www.kaggle.com/dansbecker/select-from-where).**"
   ]
  },
  {
   "cell_type": "markdown",
   "id": "db2c887f",
   "metadata": {
    "papermill": {
     "duration": 0.021632,
     "end_time": "2021-08-20T09:14:09.370893",
     "exception": false,
     "start_time": "2021-08-20T09:14:09.349261",
     "status": "completed"
    },
    "tags": []
   },
   "source": [
    "---\n",
    "\n",
    "\n",
    "\n",
    "\n",
    "*Have questions or comments? Visit the [Learn Discussion forum](https://www.kaggle.com/learn-forum/161314) to chat with other Learners.*"
   ]
  }
 ],
 "metadata": {
  "kernelspec": {
   "display_name": "Python 3",
   "language": "python",
   "name": "python3"
  },
  "language_info": {
   "codemirror_mode": {
    "name": "ipython",
    "version": 3
   },
   "file_extension": ".py",
   "mimetype": "text/x-python",
   "name": "python",
   "nbconvert_exporter": "python",
   "pygments_lexer": "ipython3",
   "version": "3.7.10"
  },
  "papermill": {
   "default_parameters": {},
   "duration": 13.96559,
   "end_time": "2021-08-20T09:14:10.881303",
   "environment_variables": {},
   "exception": null,
   "input_path": "__notebook__.ipynb",
   "output_path": "__notebook__.ipynb",
   "parameters": {},
   "start_time": "2021-08-20T09:13:56.915713",
   "version": "2.3.3"
  }
 },
 "nbformat": 4,
 "nbformat_minor": 5
}
